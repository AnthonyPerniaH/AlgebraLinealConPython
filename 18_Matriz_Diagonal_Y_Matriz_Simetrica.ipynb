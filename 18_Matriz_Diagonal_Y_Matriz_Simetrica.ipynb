{
 "metadata": {
  "language_info": {
   "codemirror_mode": {
    "name": "ipython",
    "version": 3
   },
   "file_extension": ".py",
   "mimetype": "text/x-python",
   "name": "python",
   "nbconvert_exporter": "python",
   "pygments_lexer": "ipython3",
   "version": 3
  },
  "orig_nbformat": 2,
  "kernelspec": {
   "name": "python_defaultSpec_1595374478018",
   "display_name": "Python 3.7.4 64-bit ('base': conda)"
  }
 },
 "nbformat": 4,
 "nbformat_minor": 2,
 "cells": [
  {
   "cell_type": "code",
   "execution_count": 1,
   "metadata": {},
   "outputs": [],
   "source": [
    "%matplotlib inline\n",
    "import matplotlib.pyplot as plt \n",
    "import numpy as np \n",
    "import seaborn as sns "
   ]
  },
  {
   "cell_type": "code",
   "execution_count": 2,
   "metadata": {},
   "outputs": [
    {
     "output_type": "execute_result",
     "data": {
      "text/plain": "array([[1, 0, 0, 0, 0],\n       [0, 2, 0, 0, 0],\n       [0, 0, 3, 0, 0],\n       [0, 0, 0, 4, 0],\n       [0, 0, 0, 0, 5]])"
     },
     "metadata": {},
     "execution_count": 2
    }
   ],
   "source": [
    "vector = np.array([1,2,3,4,5])\n",
    "\n",
    "matriz = np.diag(vector)\n",
    "\n",
    "matriz"
   ]
  },
  {
   "cell_type": "code",
   "execution_count": 3,
   "metadata": {},
   "outputs": [
    {
     "output_type": "execute_result",
     "data": {
      "text/plain": "array([[1, 0, 0],\n       [0, 2, 0],\n       [0, 0, 3],\n       [0, 0, 0]])"
     },
     "metadata": {},
     "execution_count": 3
    }
   ],
   "source": [
    "matriz[0:4,0:3]"
   ]
  },
  {
   "cell_type": "code",
   "execution_count": 4,
   "metadata": {},
   "outputs": [
    {
     "output_type": "execute_result",
     "data": {
      "text/plain": "array([[1, 0, 0, 0],\n       [0, 2, 0, 0],\n       [0, 0, 3, 0]])"
     },
     "metadata": {},
     "execution_count": 4
    }
   ],
   "source": [
    "matriz[0:3,0:4]"
   ]
  },
  {
   "cell_type": "code",
   "execution_count": 6,
   "metadata": {},
   "outputs": [
    {
     "output_type": "execute_result",
     "data": {
      "text/plain": "array([[2, 0, 0, 0],\n       [0, 3, 0, 0],\n       [0, 0, 4, 0],\n       [0, 0, 0, 5]])"
     },
     "metadata": {},
     "execution_count": 6
    }
   ],
   "source": [
    "a = np.diag([2,3,4,5])\n",
    "a"
   ]
  },
  {
   "cell_type": "code",
   "execution_count": 7,
   "metadata": {},
   "outputs": [
    {
     "output_type": "execute_result",
     "data": {
      "text/plain": "array([1, 1, 1, 1])"
     },
     "metadata": {},
     "execution_count": 7
    }
   ],
   "source": [
    "v1 = np.array([1,1,1,1])\n",
    "v1"
   ]
  },
  {
   "cell_type": "code",
   "execution_count": 8,
   "metadata": {},
   "outputs": [
    {
     "output_type": "execute_result",
     "data": {
      "text/plain": "array([2, 3, 4, 5])"
     },
     "metadata": {},
     "execution_count": 8
    }
   ],
   "source": [
    "a.dot(v1.T)"
   ]
  },
  {
   "cell_type": "code",
   "execution_count": 9,
   "metadata": {},
   "outputs": [
    {
     "output_type": "execute_result",
     "data": {
      "text/plain": "array([[0.5       , 0.        , 0.        , 0.        ],\n       [0.        , 0.33333333, 0.        , 0.        ],\n       [0.        , 0.        , 0.2       , 0.        ],\n       [0.        , 0.        , 0.        , 0.2       ]])"
     },
     "metadata": {},
     "execution_count": 9
    }
   ],
   "source": [
    "a_inv = np.diag([1/2,1/3,1/5,1/5])\n",
    "a_inv"
   ]
  },
  {
   "cell_type": "code",
   "execution_count": 10,
   "metadata": {},
   "outputs": [
    {
     "output_type": "execute_result",
     "data": {
      "text/plain": "array([[1. , 0. , 0. , 0. ],\n       [0. , 1. , 0. , 0. ],\n       [0. , 0. , 0.8, 0. ],\n       [0. , 0. , 0. , 1. ]])"
     },
     "metadata": {},
     "execution_count": 10
    }
   ],
   "source": [
    "identidad = a.dot(a_inv)\n",
    "identidad"
   ]
  },
  {
   "cell_type": "code",
   "execution_count": 12,
   "metadata": {},
   "outputs": [
    {
     "output_type": "execute_result",
     "data": {
      "text/plain": "array([[0.5       , 0.        , 0.        , 0.        ],\n       [0.        , 0.33333333, 0.        , 0.        ],\n       [0.        , 0.        , 0.25      , 0.        ],\n       [0.        , 0.        , 0.        , 0.2       ]])"
     },
     "metadata": {},
     "execution_count": 12
    }
   ],
   "source": [
    "a_inv_cal = np.linalg.inv(a)\n",
    "a_inv_cal"
   ]
  },
  {
   "cell_type": "code",
   "execution_count": 14,
   "metadata": {},
   "outputs": [
    {
     "output_type": "execute_result",
     "data": {
      "text/plain": "array([[2, 0, 0, 0],\n       [0, 3, 0, 0],\n       [0, 0, 4, 0],\n       [0, 0, 0, 5]])"
     },
     "metadata": {},
     "execution_count": 14
    }
   ],
   "source": [
    "a.T"
   ]
  },
  {
   "cell_type": "code",
   "execution_count": 15,
   "metadata": {},
   "outputs": [
    {
     "output_type": "execute_result",
     "data": {
      "text/plain": "array([[2, 0, 0, 0],\n       [0, 3, 0, 0],\n       [0, 0, 4, 0],\n       [0, 0, 0, 5]])"
     },
     "metadata": {},
     "execution_count": 15
    }
   ],
   "source": [
    "a"
   ]
  },
  {
   "cell_type": "code",
   "execution_count": 16,
   "metadata": {},
   "outputs": [
    {
     "output_type": "execute_result",
     "data": {
      "text/plain": "array([[ 1,  2,  3],\n       [ 2, -1,  7],\n       [ 3,  7, 11]])"
     },
     "metadata": {},
     "execution_count": 16
    }
   ],
   "source": [
    "simetrica = np.array([[1,2,3],\n",
    "                        [2,-1,7],\n",
    "                        [3,7,11]])\n",
    "\n",
    "simetrica"
   ]
  },
  {
   "cell_type": "code",
   "execution_count": 17,
   "metadata": {},
   "outputs": [
    {
     "output_type": "execute_result",
     "data": {
      "text/plain": "array([[ 1,  2,  3],\n       [ 2, -1,  7],\n       [ 3,  7, 11]])"
     },
     "metadata": {},
     "execution_count": 17
    }
   ],
   "source": [
    "simetrica.T"
   ]
  },
  {
   "cell_type": "code",
   "execution_count": null,
   "metadata": {},
   "outputs": [],
   "source": []
  }
 ]
}