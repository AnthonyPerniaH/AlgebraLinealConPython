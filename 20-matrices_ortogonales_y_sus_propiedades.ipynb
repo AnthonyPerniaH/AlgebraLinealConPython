{
 "metadata": {
  "language_info": {
   "codemirror_mode": {
    "name": "ipython",
    "version": 3
   },
   "file_extension": ".py",
   "mimetype": "text/x-python",
   "name": "python",
   "nbconvert_exporter": "python",
   "pygments_lexer": "ipython3",
   "version": 3
  },
  "orig_nbformat": 2,
  "kernelspec": {
   "name": "python_defaultSpec_1595376813941",
   "display_name": "Python 3.7.4 64-bit ('base': conda)"
  }
 },
 "nbformat": 4,
 "nbformat_minor": 2,
 "cells": [
  {
   "cell_type": "code",
   "execution_count": 1,
   "metadata": {},
   "outputs": [],
   "source": [
    "%matplotlib inline\n",
    "import matplotlib.pyplot as plt \n",
    "import numpy as np \n",
    "import seaborn as sns "
   ]
  },
  {
   "cell_type": "code",
   "execution_count": 2,
   "metadata": {},
   "outputs": [
    {
     "output_type": "execute_result",
     "data": {
      "text/plain": "array([[1, 0, 0],\n       [0, 1, 0],\n       [0, 0, 1]])"
     },
     "metadata": {},
     "execution_count": 2
    }
   ],
   "source": [
    "matriz = np.array([[1,0,0],\n",
    "                    [0,1,0],\n",
    "                    [0,0,1],\n",
    "])\n",
    "matriz"
   ]
  },
  {
   "cell_type": "code",
   "execution_count": 4,
   "metadata": {},
   "outputs": [
    {
     "output_type": "execute_result",
     "data": {
      "text/plain": "0"
     },
     "metadata": {},
     "execution_count": 4
    }
   ],
   "source": [
    "matriz[:,0].dot(matriz[:,1])"
   ]
  },
  {
   "cell_type": "code",
   "execution_count": 5,
   "metadata": {},
   "outputs": [
    {
     "output_type": "execute_result",
     "data": {
      "text/plain": "0"
     },
     "metadata": {},
     "execution_count": 5
    }
   ],
   "source": [
    "matriz[:,0].dot(matriz[:,2])"
   ]
  },
  {
   "cell_type": "code",
   "execution_count": 6,
   "metadata": {},
   "outputs": [
    {
     "output_type": "execute_result",
     "data": {
      "text/plain": "0"
     },
     "metadata": {},
     "execution_count": 6
    }
   ],
   "source": [
    "matriz[:,1].dot(matriz[:,2])"
   ]
  },
  {
   "cell_type": "code",
   "execution_count": 9,
   "metadata": {},
   "outputs": [
    {
     "output_type": "execute_result",
     "data": {
      "text/plain": "1.0"
     },
     "metadata": {},
     "execution_count": 9
    }
   ],
   "source": [
    "np.linalg.norm(matriz[:,0])\n"
   ]
  },
  {
   "cell_type": "code",
   "execution_count": 10,
   "metadata": {},
   "outputs": [
    {
     "output_type": "execute_result",
     "data": {
      "text/plain": "1.0"
     },
     "metadata": {},
     "execution_count": 10
    }
   ],
   "source": [
    "np.linalg.norm(matriz[:,1])\n"
   ]
  },
  {
   "cell_type": "code",
   "execution_count": 11,
   "metadata": {},
   "outputs": [
    {
     "output_type": "execute_result",
     "data": {
      "text/plain": "1.0"
     },
     "metadata": {},
     "execution_count": 11
    }
   ],
   "source": [
    "np.linalg.norm(matriz[:,2])"
   ]
  },
  {
   "cell_type": "code",
   "execution_count": 13,
   "metadata": {},
   "outputs": [
    {
     "output_type": "execute_result",
     "data": {
      "text/plain": "0"
     },
     "metadata": {},
     "execution_count": 13
    }
   ],
   "source": [
    "matriz[0,:].dot(matriz[1,:])"
   ]
  },
  {
   "cell_type": "code",
   "execution_count": 14,
   "metadata": {},
   "outputs": [
    {
     "output_type": "execute_result",
     "data": {
      "text/plain": "0"
     },
     "metadata": {},
     "execution_count": 14
    }
   ],
   "source": [
    "matriz[0,:].dot(matriz[2,:])"
   ]
  },
  {
   "cell_type": "code",
   "execution_count": 16,
   "metadata": {},
   "outputs": [
    {
     "output_type": "execute_result",
     "data": {
      "text/plain": "0"
     },
     "metadata": {},
     "execution_count": 16
    }
   ],
   "source": [
    "matriz[1,:].dot(matriz[2,:])"
   ]
  },
  {
   "cell_type": "code",
   "execution_count": 19,
   "metadata": {
    "tags": []
   },
   "outputs": [
    {
     "output_type": "stream",
     "name": "stdout",
     "text": "[[ 0.86231887  0.50636564]\n [-0.50636564  0.86231887]]\n"
    }
   ],
   "source": [
    "a = np.array([[np.cos(100), -np.sin(100)],\n",
    "                [np.sin(100), np.cos(100)]])\n",
    "\n",
    "print(a)"
   ]
  },
  {
   "cell_type": "code",
   "execution_count": 20,
   "metadata": {
    "tags": []
   },
   "outputs": [
    {
     "output_type": "stream",
     "name": "stdout",
     "text": "0.9999999999999999\n0.9999999999999999\n0.9999999999999999\n0.9999999999999999\n"
    }
   ],
   "source": [
    "print(np.linalg.norm(a[0,:]))\n",
    "print(np.linalg.norm(a[1,:]))\n",
    "print(np.linalg.norm(a[:,0]))\n",
    "print(np.linalg.norm(a[:,1]))"
   ]
  },
  {
   "cell_type": "code",
   "execution_count": 23,
   "metadata": {
    "tags": []
   },
   "outputs": [
    {
     "output_type": "stream",
     "name": "stdout",
     "text": "0.0\n0.0\n"
    }
   ],
   "source": [
    "print(a[0,:].dot(a[1,:]))\n",
    "print(a[:,0].dot(a[:,1]))"
   ]
  },
  {
   "cell_type": "code",
   "execution_count": 24,
   "metadata": {},
   "outputs": [],
   "source": [
    "a_t = a.T "
   ]
  },
  {
   "cell_type": "code",
   "execution_count": 25,
   "metadata": {
    "tags": []
   },
   "outputs": [
    {
     "output_type": "stream",
     "name": "stdout",
     "text": "[[ 1.00000000e+00 -7.93771519e-18]\n [-7.93771519e-18  1.00000000e+00]]\n[[1.00000000e+00 7.93771519e-18]\n [7.93771519e-18 1.00000000e+00]]\n"
    }
   ],
   "source": [
    "print(a_t.dot(a))\n",
    "print(a.dot(a_t))"
   ]
  },
  {
   "cell_type": "code",
   "execution_count": 26,
   "metadata": {},
   "outputs": [
    {
     "output_type": "execute_result",
     "data": {
      "text/plain": "array([[ 0.86231887, -0.50636564],\n       [ 0.50636564,  0.86231887]])"
     },
     "metadata": {},
     "execution_count": 26
    }
   ],
   "source": [
    "a_inv = np.linalg.inv(a)\n",
    "a_inv"
   ]
  },
  {
   "cell_type": "code",
   "execution_count": 27,
   "metadata": {},
   "outputs": [
    {
     "output_type": "execute_result",
     "data": {
      "text/plain": "array([[ 0.86231887, -0.50636564],\n       [ 0.50636564,  0.86231887]])"
     },
     "metadata": {},
     "execution_count": 27
    }
   ],
   "source": [
    "a_t"
   ]
  },
  {
   "cell_type": "code",
   "execution_count": 28,
   "metadata": {
    "tags": []
   },
   "outputs": [
    {
     "output_type": "stream",
     "name": "stdout",
     "text": "[[ 1.00000000e+00 -1.25980837e+17]\n [-1.25980837e+17  1.00000000e+00]]\n"
    }
   ],
   "source": [
    "print(1/a_t.dot(a))"
   ]
  },
  {
   "cell_type": "code",
   "execution_count": null,
   "metadata": {},
   "outputs": [],
   "source": []
  }
 ]
}