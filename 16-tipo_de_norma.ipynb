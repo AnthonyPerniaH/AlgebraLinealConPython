{
 "metadata": {
  "language_info": {
   "codemirror_mode": {
    "name": "ipython",
    "version": 3
   },
   "file_extension": ".py",
   "mimetype": "text/x-python",
   "name": "python",
   "nbconvert_exporter": "python",
   "pygments_lexer": "ipython3",
   "version": 3
  },
  "orig_nbformat": 2,
  "kernelspec": {
   "name": "python_defaultSpec_1595292536561",
   "display_name": "Python 3.7.4 64-bit ('base': conda)"
  }
 },
 "nbformat": 4,
 "nbformat_minor": 2,
 "cells": [
  {
   "cell_type": "code",
   "execution_count": 5,
   "metadata": {},
   "outputs": [],
   "source": [
    "%matplotlib inline\n",
    "import matplotlib.pyplot as plt \n",
    "import numpy as np \n",
    "import seaborn as sns "
   ]
  },
  {
   "cell_type": "code",
   "execution_count": 6,
   "metadata": {},
   "outputs": [],
   "source": [
    "#La norma se usa en machine learning para encontrar errores.\n",
    "#La norma L0: devuelve la cantidad de elementos diferentes de 0 del vector.\n",
    "#La norma L1: devuelve la suma de los valores absolutos de los elementos del vector.\n",
    "#La norma L2: La magnitud del vector desde su origen.\n",
    "#La norma infinito: devuelve el valor absoluto más grande del vector"
   ]
  },
  {
   "cell_type": "code",
   "execution_count": 7,
   "metadata": {},
   "outputs": [],
   "source": [
    "vector = np.array([1,2,0,5,6,0])"
   ]
  },
  {
   "cell_type": "code",
   "execution_count": 8,
   "metadata": {},
   "outputs": [
    {
     "output_type": "execute_result",
     "data": {
      "text/plain": "4.0"
     },
     "metadata": {},
     "execution_count": 8
    }
   ],
   "source": [
    "#calculando la norma 0\n",
    "np.linalg.norm(vector, ord=0)"
   ]
  },
  {
   "cell_type": "code",
   "execution_count": 9,
   "metadata": {},
   "outputs": [
    {
     "output_type": "execute_result",
     "data": {
      "text/plain": "5.0"
     },
     "metadata": {},
     "execution_count": 9
    }
   ],
   "source": [
    "#calculando norma 1\n",
    "vector = np.array([1,-1,1,-1,1])\n",
    "np.linalg.norm(vector, ord=1)"
   ]
  },
  {
   "cell_type": "code",
   "execution_count": 12,
   "metadata": {
    "tags": []
   },
   "outputs": [
    {
     "output_type": "stream",
     "name": "stdout",
     "text": "1.4142135623730951\n1.4142135623730951\n"
    }
   ],
   "source": [
    "#calculando la norma 2\n",
    "vector = np.array([1,1])\n",
    "print(np.linalg.norm(vector, ord=2))\n",
    "print(np.linalg.norm(vector))"
   ]
  },
  {
   "cell_type": "code",
   "execution_count": 13,
   "metadata": {},
   "outputs": [
    {
     "output_type": "execute_result",
     "data": {
      "text/plain": "array([1, 2, 3, 4, 5, 6])"
     },
     "metadata": {},
     "execution_count": 13
    }
   ],
   "source": [
    "vector = np.array([1,2,3,4,5,6])\n",
    "vector"
   ]
  },
  {
   "cell_type": "code",
   "execution_count": 19,
   "metadata": {
    "tags": []
   },
   "outputs": [
    {
     "output_type": "stream",
     "name": "stdout",
     "text": "91.0\n"
    }
   ],
   "source": [
    "print(np.linalg.norm(vector, ord=2)**2)"
   ]
  },
  {
   "cell_type": "code",
   "execution_count": 22,
   "metadata": {},
   "outputs": [
    {
     "output_type": "execute_result",
     "data": {
      "text/plain": "91"
     },
     "metadata": {},
     "execution_count": 22
    }
   ],
   "source": [
    "vector.T.dot(vector)"
   ]
  },
  {
   "cell_type": "code",
   "execution_count": 23,
   "metadata": {},
   "outputs": [],
   "source": [
    "#para tu poder hacer un producto interno, el numero de columnas del vector o matriz de la derecha tiene que ser igual al numero de filas de la matrizo vector de la derecha. \n",
    "#1xN y 1xN NO se puede\n",
    "#1xN y Nx1 si se puede"
   ]
  },
  {
   "cell_type": "code",
   "execution_count": 24,
   "metadata": {},
   "outputs": [
    {
     "output_type": "execute_result",
     "data": {
      "text/plain": "100.0"
     },
     "metadata": {},
     "execution_count": 24
    }
   ],
   "source": [
    "#calculando la norma infinito\n",
    "vector = np.array([1,2,3,-100])\n",
    "np.linalg.norm(vector, ord=np.inf)"
   ]
  },
  {
   "cell_type": "code",
   "execution_count": null,
   "metadata": {},
   "outputs": [],
   "source": []
  }
 ]
}