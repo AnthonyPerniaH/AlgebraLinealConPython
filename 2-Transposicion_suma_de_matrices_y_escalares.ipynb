{
 "metadata": {
  "language_info": {
   "codemirror_mode": {
    "name": "ipython",
    "version": 3
   },
   "file_extension": ".py",
   "mimetype": "text/x-python",
   "name": "python",
   "nbconvert_exporter": "python",
   "pygments_lexer": "ipython3",
   "version": 3
  },
  "orig_nbformat": 2,
  "kernelspec": {
   "name": "python_defaultSpec_1595171902266",
   "display_name": "Python 3.7.7 64-bit ('Platzi - FundamentosAL': conda)"
  }
 },
 "nbformat": 4,
 "nbformat_minor": 2,
 "cells": [
  {
   "cell_type": "code",
   "execution_count": 1,
   "metadata": {},
   "outputs": [],
   "source": [
    "import numpy as np "
   ]
  },
  {
   "cell_type": "code",
   "execution_count": 4,
   "metadata": {},
   "outputs": [],
   "source": [
    "escalar = 5,679\n",
    "vector = np.array([3,4,5,6])\n",
    "matriz = np.array([[1,2],[3,4],[5,6]])\n",
    "\n",
    "tensor = np.array([\n",
    "[[1,2,3,30],[4,5,6,31],[6,7,8,32]],\n",
    "[[11,12,13,33],[14,15,16,34],[17,18,19,35]],\n",
    "[[21,22,23,36],[24,25,26,37],[27,28,29,38]]\n",
    "])"
   ]
  },
  {
   "cell_type": "code",
   "execution_count": 5,
   "metadata": {
    "tags": []
   },
   "outputs": [
    {
     "output_type": "stream",
     "name": "stdout",
     "text": "[[1 3 5]\n [2 4 6]]\n"
    }
   ],
   "source": [
    "matriz_t = matriz.T\n",
    "print(matriz_t)"
   ]
  },
  {
   "cell_type": "code",
   "execution_count": 6,
   "metadata": {},
   "outputs": [
    {
     "output_type": "execute_result",
     "data": {
      "text/plain": "array([[1, 2],\n       [3, 4],\n       [5, 6]])"
     },
     "metadata": {},
     "execution_count": 6
    }
   ],
   "source": [
    "matriz"
   ]
  },
  {
   "cell_type": "code",
   "execution_count": 7,
   "metadata": {},
   "outputs": [
    {
     "output_type": "execute_result",
     "data": {
      "text/plain": "array([[[ 1,  2,  3, 30],\n        [ 4,  5,  6, 31],\n        [ 6,  7,  8, 32]],\n\n       [[11, 12, 13, 33],\n        [14, 15, 16, 34],\n        [17, 18, 19, 35]],\n\n       [[21, 22, 23, 36],\n        [24, 25, 26, 37],\n        [27, 28, 29, 38]]])"
     },
     "metadata": {},
     "execution_count": 7
    }
   ],
   "source": [
    "tensor"
   ]
  },
  {
   "cell_type": "code",
   "execution_count": 9,
   "metadata": {},
   "outputs": [
    {
     "output_type": "execute_result",
     "data": {
      "text/plain": "array([[[ 1, 11, 21],\n        [ 4, 14, 24],\n        [ 6, 17, 27]],\n\n       [[ 2, 12, 22],\n        [ 5, 15, 25],\n        [ 7, 18, 28]],\n\n       [[ 3, 13, 23],\n        [ 6, 16, 26],\n        [ 8, 19, 29]],\n\n       [[30, 33, 36],\n        [31, 34, 37],\n        [32, 35, 38]]])"
     },
     "metadata": {},
     "execution_count": 9
    }
   ],
   "source": [
    "tensor_t = tensor.T\n",
    "tensor_t"
   ]
  },
  {
   "cell_type": "code",
   "execution_count": 10,
   "metadata": {
    "tags": []
   },
   "outputs": [
    {
     "output_type": "stream",
     "name": "stdout",
     "text": "[[1 2]\n [3 4]\n [5 6]]\n[[6 5]\n [4 3]\n [2 1]]\n[[7 7]\n [7 7]\n [7 7]]\n"
    }
   ],
   "source": [
    "a = np.array([[1,2],[3,4],[5,6]])\n",
    "b = np.array([[6,5],[4,3],[2,1]])\n",
    "c = a+b\n",
    "print(a)\n",
    "print(b)\n",
    "print(c)"
   ]
  },
  {
   "cell_type": "code",
   "execution_count": 13,
   "metadata": {},
   "outputs": [],
   "source": [
    "vector = np.array([3,4,5])\n",
    "matriz = np.array([[1,2],[3,4],[5,6]])\n",
    "matriz_t = matriz.T"
   ]
  },
  {
   "cell_type": "code",
   "execution_count": 15,
   "metadata": {},
   "outputs": [
    {
     "output_type": "execute_result",
     "data": {
      "text/plain": "array([[ 4,  7, 10],\n       [ 5,  8, 11]])"
     },
     "metadata": {},
     "execution_count": 15
    }
   ],
   "source": [
    "d = matriz_t+vector\n",
    "d"
   ]
  },
  {
   "cell_type": "code",
   "execution_count": null,
   "metadata": {},
   "outputs": [],
   "source": []
  }
 ]
}